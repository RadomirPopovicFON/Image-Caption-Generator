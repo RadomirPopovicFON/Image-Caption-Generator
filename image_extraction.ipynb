{
 "cells": [
  {
   "cell_type": "code",
   "execution_count": 3,
   "metadata": {},
   "outputs": [],
   "source": [
    "from keras.applications.resnet50 import ResNet50, preprocess_input, decode_predictions\n",
    "from keras.preprocessing import image\n",
    "from keras import Model\n",
    "\n",
    "import numpy as np\n",
    "import pandas as pd\n",
    "\n",
    "from PIL import Image\n",
    "import requests\n",
    "from io import BytesIO\n",
    "import json\n",
    "\n",
    "import pickle as pkl\n",
    "from sklearn.decomposition import PCA"
   ]
  },
  {
   "cell_type": "markdown",
   "metadata": {},
   "source": [
    "<i>The overall idea is to map rgb values of an images to features from ResNet50 model. We repeat the same procedure for all of the images. </i>"
   ]
  },
  {
   "cell_type": "code",
   "execution_count": 5,
   "metadata": {},
   "outputs": [],
   "source": [
    "with open('parameters.json') as json_file: data = json.load(json_file)\n",
    "doc = open('data/Flickr_8k.trainImages.txt' ,\"r\").read()\n",
    "imgs_directory = data['imgs_path']\n",
    "train_imgs = [line for line in doc.split('\\n')]\n",
    "\n",
    "base_model = ResNet50(weights='imagenet')\n",
    "model = Model(inputs=base_model.input, outputs=base_model.layers[-2].output)"
   ]
  },
  {
   "cell_type": "code",
   "execution_count": 12,
   "metadata": {
    "scrolled": true
   },
   "outputs": [],
   "source": [
    "try:\n",
    "    encoded_imgs = pkl.load( open( \"pkl_files/encoded_imgs.pkl\", \"rb\" ) )\n",
    "    \n",
    "except:\n",
    "    encoded_imgs = {}\n",
    "\n",
    "    for i, img_name in enumerate(train_imgs):\n",
    "        img_path_full = imgs_directory+img_name\n",
    "        img = image.load_img(img_path_full, target_size=(224, 224))\n",
    "        x = preprocess_input(np.expand_dims(image.img_to_array(img), axis=0))\n",
    "        prediction = model.predict(x) \n",
    "        encoded_imgs[img_name] = np.reshape(prediction, prediction.shape[1])\n",
    "    \n",
    "    pkl.dump( encoded_imgs, open( \"pkl_files/encoded_imgs.pkl\", \"wb\" ) )"
   ]
  },
  {
   "cell_type": "markdown",
   "metadata": {},
   "source": [
    "Next steps are to train and to test the model."
   ]
  }
 ],
 "metadata": {
  "kernelspec": {
   "display_name": "Python 3",
   "language": "python",
   "name": "python3"
  },
  "language_info": {
   "codemirror_mode": {
    "name": "ipython",
    "version": 3
   },
   "file_extension": ".py",
   "mimetype": "text/x-python",
   "name": "python",
   "nbconvert_exporter": "python",
   "pygments_lexer": "ipython3",
   "version": "3.7.6"
  }
 },
 "nbformat": 4,
 "nbformat_minor": 4
}
